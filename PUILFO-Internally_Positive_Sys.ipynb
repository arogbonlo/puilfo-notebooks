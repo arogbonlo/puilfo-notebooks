{
 "cells": [
  {
   "cell_type": "code",
   "execution_count": 1,
   "metadata": {
    "collapsed": true,
    "deletable": true,
    "editable": true
   },
   "outputs": [],
   "source": [
    "import numpy as np\n",
    "import scipy as sp\n",
    "import matplotlib.pyplot as plt\n",
    "np.random.seed(seed=0)"
   ]
  },
  {
   "cell_type": "code",
   "execution_count": 2,
   "metadata": {
    "collapsed": false,
    "deletable": true,
    "editable": true
   },
   "outputs": [],
   "source": [
    "A = np.array([[-9,1,2],\n",
    "              [1,-11,3],\n",
    "              [4,3,-17]])\n",
    "\n",
    "Ad = 1e-2 * np.array([[1,2,3],\n",
    "                      [4,5,6],\n",
    "                      [7,8,9]])\n",
    "\n",
    "B = np.array([[1],\n",
    "              [2],\n",
    "              [3]])\n",
    "\n",
    "C = np.array([[1,0,0]])\n",
    "\n",
    "D = np.array([[3],\n",
    "              [1],\n",
    "              [0]])\n",
    "\n",
    "F = np.array([[0,1,0],\n",
    "              [0,0,1]])\n",
    "\n",
    "G = np.array([[0.3333],\n",
    "             [0]])\n",
    "H = np.array([[1.6667],\n",
    "              [3]])\n",
    "\n",
    "N = np.array([[-11.3333,2.3333],\n",
    "              [3, -17]])\n",
    "Nd = np.array([[0.0433,0.05],\n",
    "               [0.08,0.09]])\n",
    "J = np.array([[0.2222],\n",
    "              [5]])\n",
    "Jd = np.array([[0.0511],\n",
    "               [0.0967]])"
   ]
  },
  {
   "cell_type": "code",
   "execution_count": 3,
   "metadata": {
    "collapsed": false,
    "deletable": true,
    "editable": true
   },
   "outputs": [],
   "source": [
    "R = np.dot(G,C)\n",
    "RA = np.dot(R,A)\n",
    "RAd = np.dot(R,Ad);\n",
    "RB = np.dot(R,B)\n",
    "RD = np.dot(R,D)\n",
    "NR = np.dot(N,R)\n",
    "NdR = np.dot(Nd,R)\n",
    "JC = np.dot(J,C)\n",
    "JdC = np.dot(Jd,C)"
   ]
  },
  {
   "cell_type": "code",
   "execution_count": 4,
   "metadata": {
    "collapsed": false,
    "deletable": true,
    "editable": true
   },
   "outputs": [],
   "source": [
    "t = np.arange(0,20, 0.001)"
   ]
  },
  {
   "cell_type": "code",
   "execution_count": 5,
   "metadata": {
    "collapsed": false,
    "deletable": true,
    "editable": true
   },
   "outputs": [
    {
     "data": {
      "text/plain": [
       "(20000,)"
      ]
     },
     "execution_count": 5,
     "metadata": {},
     "output_type": "execute_result"
    }
   ],
   "source": [
    "np.shape(t)"
   ]
  },
  {
   "cell_type": "code",
   "execution_count": 6,
   "metadata": {
    "collapsed": false,
    "deletable": true,
    "editable": true
   },
   "outputs": [],
   "source": [
    "simLen = np.shape(t)[0]"
   ]
  },
  {
   "cell_type": "code",
   "execution_count": 7,
   "metadata": {
    "collapsed": false,
    "deletable": true,
    "editable": true
   },
   "outputs": [
    {
     "data": {
      "text/plain": [
       "20000"
      ]
     },
     "execution_count": 7,
     "metadata": {},
     "output_type": "execute_result"
    }
   ],
   "source": [
    "simLen"
   ]
  },
  {
   "cell_type": "code",
   "execution_count": 8,
   "metadata": {
    "collapsed": true,
    "deletable": true,
    "editable": true
   },
   "outputs": [],
   "source": [
    "tau = 1000"
   ]
  },
  {
   "cell_type": "code",
   "execution_count": 9,
   "metadata": {
    "collapsed": false,
    "deletable": true,
    "editable": true
   },
   "outputs": [],
   "source": [
    "x = np.zeros((3, simLen))\n",
    "xdot = np.zeros((3, simLen))\n",
    "x[0,0:tau+1] = 1\n",
    "x[1,0:tau+1] = 0.4\n",
    "x[2,0:tau+1] = 2"
   ]
  },
  {
   "cell_type": "code",
   "execution_count": 10,
   "metadata": {
    "collapsed": false,
    "deletable": true,
    "editable": true
   },
   "outputs": [],
   "source": [
    "zhat = np.zeros((2, simLen))\n",
    "zhdot = np.zeros((2, simLen))\n",
    "u = 1\n"
   ]
  },
  {
   "cell_type": "code",
   "execution_count": 11,
   "metadata": {
    "collapsed": false,
    "deletable": true,
    "editable": true
   },
   "outputs": [],
   "source": [
    "for i in range(tau, simLen):\n",
    "    xdot[:,i]= (np.dot(A, (x[:,i]).reshape(3,1)) + np.dot(Ad, (x[:, i-tau]).reshape(3,1)) + B*u + D*np.abs((np.random.randn()))).reshape(3,)\n",
    "    if (i != simLen-1):\n",
    "        x[:,i+1] = x[:,i] + 0.001*xdot[:,i]"
   ]
  },
  {
   "cell_type": "code",
   "execution_count": 12,
   "metadata": {
    "collapsed": false,
    "deletable": true,
    "editable": true
   },
   "outputs": [],
   "source": [
    "y = np.dot(C,x)"
   ]
  },
  {
   "cell_type": "code",
   "execution_count": 13,
   "metadata": {
    "collapsed": false,
    "deletable": true,
    "editable": true
   },
   "outputs": [],
   "source": [
    "for i in range(tau, simLen):\n",
    "    zhdot[:,i] = (np.dot(N, (zhat[:,i]).reshape(2,1)) + np.dot(Nd, (zhat[:,i-tau]).reshape(2,1)) + np.dot((JC + RA - NR), (x[:, i]).reshape(3,1)) + np.dot((JdC + RAd - NdR), (x[:, i-tau]).reshape(3,1)) + (H + RB)*u + RD*np.abs((np.random.randn()))).reshape(2,)\n",
    "    if (i != simLen - 1):\n",
    "        zhat[:,i+1] = zhat[:,i] + 0.001*zhdot[:,i]"
   ]
  },
  {
   "cell_type": "code",
   "execution_count": 14,
   "metadata": {
    "collapsed": false,
    "deletable": true,
    "editable": true
   },
   "outputs": [],
   "source": [
    "z = np.dot(F, x)"
   ]
  },
  {
   "cell_type": "code",
   "execution_count": 15,
   "metadata": {
    "collapsed": true,
    "deletable": true,
    "editable": true
   },
   "outputs": [],
   "source": [
    "e = np.abs(zhat - z)"
   ]
  },
  {
   "cell_type": "code",
   "execution_count": 16,
   "metadata": {
    "collapsed": false,
    "deletable": true,
    "editable": true
   },
   "outputs": [
    {
     "data": {
      "text/plain": [
       "<matplotlib.legend.Legend at 0x7f9efcf6cba8>"
      ]
     },
     "execution_count": 16,
     "metadata": {},
     "output_type": "execute_result"
    }
   ],
   "source": [
    "fig1 = plt.figure(figsize=(7, 10))\n",
    "fig1.text(0.5, 0.00, 'time (s)', ha='center', va='center')\n",
    "fig1.text(0.5, 0.5, 'time (s)', ha='center', va='center')\n",
    "fig1.text(0.00, 0.75, 'Magnitude', ha='center', va='center', rotation='vertical')\n",
    "fig1.text(0.00, 0.25, 'Magnitude', ha='center', va='center', rotation='vertical')\n",
    "\n",
    "\n",
    "ax1 = plt.subplot(211)\n",
    "ax2 = plt.subplot(212)\n",
    "ax1.set_title('Internally Positive System: state and PUILFO dynamics with unknown inputs')\n",
    "ax2.set_title('Error Dynamics')\n",
    "\n",
    "\n",
    "line1, = ax1.plot(t[0:6999], z[0, 0:6999], 'b-', linewidth=1.6, label='$x_2(t)$')\n",
    "line2, = ax1.plot(t[0:6999], zhat[0, 0:6999], 'r--', linewidth=1.6, label='$\\hat{z}_1(t)$')\n",
    "line1.set_antialiased(True)\n",
    "line2.set_antialiased(True)\n",
    "ax1.set_ylim(0, 1.5)\n",
    "\n",
    "ax1.legend(handles=[line1, line2], loc='upper right')\n",
    "\n",
    "errline, = ax2.plot(t[0:6999], e[0, 0:6999],'g-', linewidth=1.6, label='$e(t)$')\n",
    "errline.set_antialiased(True)\n",
    "plt.ylim(0, 1.4)\n",
    "ax2.legend(handles=[errline], loc='upper right')\n"
   ]
  },
  {
   "cell_type": "code",
   "execution_count": 17,
   "metadata": {
    "collapsed": false,
    "deletable": true,
    "editable": true
   },
   "outputs": [],
   "source": [
    "plt.tight_layout(pad=0.4, w_pad=0.4, h_pad=1.5)"
   ]
  },
  {
   "cell_type": "code",
   "execution_count": 18,
   "metadata": {
    "collapsed": false,
    "deletable": true,
    "editable": true
   },
   "outputs": [],
   "source": [
    "plt.savefig('internally_positive_d.eps', figsize=(7, 10), dpi=600, bbox_inches='tight')"
   ]
  },
  {
   "cell_type": "code",
   "execution_count": 19,
   "metadata": {
    "collapsed": false,
    "deletable": true,
    "editable": true,
    "scrolled": false
   },
   "outputs": [
    {
     "data": {
      "image/png": "[encoded data removed]",
      "text/plain": [
       "<matplotlib.figure.Figure at 0x7f9efd06d3c8>"
      ]
     },
     "metadata": {},
     "output_type": "display_data"
    }
   ],
   "source": [
    "plt.show()"
   ]
  },
  {
   "cell_type": "code",
   "execution_count": 20,
   "metadata": {
    "collapsed": false,
    "deletable": true,
    "editable": true
   },
   "outputs": [
    {
     "data": {
      "text/plain": [
       "<matplotlib.legend.Legend at 0x7f9efccf4860>"
      ]
     },
     "execution_count": 20,
     "metadata": {},
     "output_type": "execute_result"
    }
   ],
   "source": [
    "fig1 = plt.figure(figsize=(7, 10))\n",
    "fig1.text(0.5, 0.00, 'time (s)', ha='center', va='center')\n",
    "fig1.text(0.5, 0.5, 'time (s)', ha='center', va='center')\n",
    "fig1.text(0.00, 0.75, 'Magnitude', ha='center', va='center', rotation='vertical')\n",
    "fig1.text(0.00, 0.25, 'Magnitude', ha='center', va='center', rotation='vertical')\n",
    "\n",
    "ax1 = plt.subplot(211)\n",
    "ax2 = plt.subplot(212)\n",
    "ax1.set_title('Internally Positive System: estimating state without unknown inputs')\n",
    "ax2.set_title('Error Dynamics')\n",
    "\n",
    "\n",
    "line1, = ax1.plot(t[0:6999], z[1, 0:6999], 'b-', linewidth=1.6, label='$x_3(t)$')\n",
    "line2, = ax1.plot(t[0:6999], zhat[1, 0:6999], 'r--', linewidth=1.6, label='$\\hat{z}_2(t)$')\n",
    "line1.set_antialiased(True)\n",
    "line2.set_antialiased(True)\n",
    "ax1.set_ylim(0, 1.5)\n",
    "\n",
    "ax1.legend(handles=[line1, line2], loc='upper right')\n",
    "\n",
    "errline, = ax2.plot(t[0:6999], e[1, 0:6999],'g-', linewidth=1.5, label='$e(t)$')\n",
    "errline.set_antialiased(True)\n",
    "plt.ylim(0, 1.0)\n",
    "ax2.legend(handles=[errline], loc='upper right')\n"
   ]
  },
  {
   "cell_type": "code",
   "execution_count": 21,
   "metadata": {
    "collapsed": false,
    "deletable": true,
    "editable": true
   },
   "outputs": [],
   "source": [
    "plt.tight_layout(pad=0.4, w_pad=0.4, h_pad=1.5)"
   ]
  },
  {
   "cell_type": "code",
   "execution_count": 22,
   "metadata": {
    "collapsed": true,
    "deletable": true,
    "editable": true
   },
   "outputs": [],
   "source": [
    "plt.savefig('internally_positive_no_d.eps', figsize=(7, 10), dpi=600, bbox_inches='tight')"
   ]
  },
  {
   "cell_type": "code",
   "execution_count": 23,
   "metadata": {
    "collapsed": false,
    "deletable": true,
    "editable": true
   },
   "outputs": [
    {
     "data": {
      "image/png": "[encoded data removed]",
      "text/plain": [
       "<matplotlib.figure.Figure at 0x7f9efcdfc940>"
      ]
     },
     "metadata": {},
     "output_type": "display_data"
    }
   ],
   "source": [
    "plt.show()"
   ]
  }
 ],
 "metadata": {
  "kernelspec": {
   "display_name": "Python 3",
   "language": "python",
   "name": "python3"
  },
  "language_info": {
   "codemirror_mode": {
    "name": "ipython",
    "version": 3
   },
   "file_extension": ".py",
   "mimetype": "text/x-python",
   "name": "python",
   "nbconvert_exporter": "python",
   "pygments_lexer": "ipython3",
   "version": "3.4.2"
  }
 },
 "nbformat": 4,
 "nbformat_minor": 1
}
