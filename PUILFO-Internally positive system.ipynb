{
 "cells": [
  {
   "cell_type": "code",
   "execution_count": 1,
   "metadata": {
    "collapsed": true
   },
   "outputs": [],
   "source": [
    "import numpy as np\n",
    "import scipy as sp\n",
    "import matplotlib.pyplot as plt\n",
    "#from random import random, seed"
   ]
  },
  {
   "cell_type": "code",
   "execution_count": 2,
   "metadata": {
    "collapsed": true
   },
   "outputs": [],
   "source": [
    "#seed(8765309)"
   ]
  },
  {
   "cell_type": "code",
   "execution_count": 3,
   "metadata": {
    "collapsed": false
   },
   "outputs": [],
   "source": [
    "A = np.array([[-3,1.5,0],\n",
    "              [2.1,-1,0.14],\n",
    "              [0,1,-8]])\n",
    "\n",
    "Ad = np.array([[2.1,1,2.4],\n",
    "               [3.2,0,1],\n",
    "               [0.7,0,0]])\n",
    "\n",
    "B = np.array([[1],\n",
    "              [0],\n",
    "              [0]])\n",
    "\n",
    "C = np.array([[0,1,0],\n",
    "              [0,0,1]])\n",
    "\n",
    "D = np.array([[0.1],\n",
    "              [0.5],\n",
    "              [3]])\n",
    "\n",
    "F = np.array([1,0,0])\n",
    "\n",
    "G = np.array([[0.00540540540540541, 0.0324324324324324]])\n",
    "\n",
    "H = 1\n",
    "\n",
    "N = -3.01135135135135\n",
    "\n",
    "Nd = 2.06\n",
    "\n",
    "J = np.array([1.45669539810080, 0.161037253469686])\n",
    "\n",
    "Jd = np.array([1.01113513513514, 2.46140540540541])"
   ]
  },
  {
   "cell_type": "code",
   "execution_count": 4,
   "metadata": {
    "collapsed": false
   },
   "outputs": [],
   "source": [
    "R = np.dot(G,C)\n",
    "RA = np.dot(R,A)\n",
    "RAd = np.dot(R,Ad);\n",
    "RB = np.dot(R,B)\n",
    "RD = np.dot(R,D)\n",
    "NR = np.dot(N,R)\n",
    "NdR = np.dot(Nd,R)\n",
    "JC = np.dot(J,C)\n",
    "JdC = np.dot(Jd,C)"
   ]
  },
  {
   "cell_type": "code",
   "execution_count": 5,
   "metadata": {
    "collapsed": false
   },
   "outputs": [],
   "source": [
    "t = np.arange(0,20, 0.001)"
   ]
  },
  {
   "cell_type": "code",
   "execution_count": 6,
   "metadata": {
    "collapsed": false
   },
   "outputs": [
    {
     "data": {
      "text/plain": [
       "(20000,)"
      ]
     },
     "execution_count": 6,
     "metadata": {},
     "output_type": "execute_result"
    }
   ],
   "source": [
    "np.shape(t)"
   ]
  },
  {
   "cell_type": "code",
   "execution_count": 7,
   "metadata": {
    "collapsed": false
   },
   "outputs": [],
   "source": [
    "simLen = np.shape(t)[0]"
   ]
  },
  {
   "cell_type": "code",
   "execution_count": 8,
   "metadata": {
    "collapsed": false
   },
   "outputs": [
    {
     "data": {
      "text/plain": [
       "20000"
      ]
     },
     "execution_count": 8,
     "metadata": {},
     "output_type": "execute_result"
    }
   ],
   "source": [
    "simLen"
   ]
  },
  {
   "cell_type": "code",
   "execution_count": 9,
   "metadata": {
    "collapsed": true
   },
   "outputs": [],
   "source": [
    "tau = 1000"
   ]
  },
  {
   "cell_type": "code",
   "execution_count": 10,
   "metadata": {
    "collapsed": false
   },
   "outputs": [],
   "source": [
    "x = np.zeros((3, simLen))\n",
    "xdot = np.zeros((3, simLen))\n",
    "x[0,0:tau+1] = 1\n",
    "x[1,0:tau+1] = 0.4\n",
    "x[2,0:tau+1] = 2"
   ]
  },
  {
   "cell_type": "code",
   "execution_count": 11,
   "metadata": {
    "collapsed": false
   },
   "outputs": [],
   "source": [
    "zhat = np.zeros((1, simLen))\n",
    "zhdot = np.zeros((1, simLen))\n",
    "u = 1\n",
    "#np.random.seed(seed=1000)"
   ]
  },
  {
   "cell_type": "code",
   "execution_count": 12,
   "metadata": {
    "collapsed": false
   },
   "outputs": [],
   "source": [
    "for i in range(tau, simLen):\n",
    "    xdot[:,i]= (np.dot(A, (x[:,i]).reshape(3,1)) + np.dot(Ad, (x[:, i-tau]).reshape(3,1)) + B*u + D*(np.random.randint(5))).reshape(3,)\n",
    "    if (i != simLen-1):\n",
    "        x[:,i+1] = x[:,i] + 0.001*xdot[:,i]"
   ]
  },
  {
   "cell_type": "code",
   "execution_count": 13,
   "metadata": {
    "collapsed": false
   },
   "outputs": [
    {
     "name": "stdout",
     "output_type": "stream",
     "text": [
      "(2, 20000)\n"
     ]
    }
   ],
   "source": [
    "y = np.dot(C,x)\n",
    "print(np.shape(y))"
   ]
  },
  {
   "cell_type": "code",
   "execution_count": 14,
   "metadata": {
    "collapsed": false
   },
   "outputs": [],
   "source": [
    "for i in range(tau, simLen):\n",
    "    zhdot[:,i] = (np.dot(N, (zhat[:,i])) + np.dot(Nd, (zhat[:,i-tau])) + np.dot((JC + RA - NR), (x[:, i])) + np.dot((JdC + RAd - NdR), (x[:, i-tau])) + (H + RB)*u + RD*(np.random.randint(5)))\n",
    "    if (i != simLen - 1):\n",
    "        zhat[:,i+1] = zhat[:,i] + 0.001*zhdot[:,i]"
   ]
  },
  {
   "cell_type": "code",
   "execution_count": 15,
   "metadata": {
    "collapsed": false
   },
   "outputs": [],
   "source": [
    "z = np.dot(F, x)#.reshape(1, 20000)"
   ]
  },
  {
   "cell_type": "code",
   "execution_count": 16,
   "metadata": {
    "collapsed": false
   },
   "outputs": [
    {
     "name": "stdout",
     "output_type": "stream",
     "text": [
      "(20000,)\n",
      "(3, 20000)\n",
      "(1, 20000)\n",
      "(20000,)\n",
      "(1, 20000)\n"
     ]
    }
   ],
   "source": [
    "print(np.shape(z))\n",
    "print(np.shape(x))\n",
    "print(np.shape(zhat))\n",
    "print(np.shape(t))\n",
    "#t.reshape(1,20000)\n",
    "z = z.reshape(1, 20000)\n",
    "print(z.shape)"
   ]
  },
  {
   "cell_type": "code",
   "execution_count": 17,
   "metadata": {
    "collapsed": true
   },
   "outputs": [],
   "source": [
    "e = np.abs(zhat - z)"
   ]
  },
  {
   "cell_type": "code",
   "execution_count": 18,
   "metadata": {
    "collapsed": false
   },
   "outputs": [
    {
     "data": {
      "text/plain": [
       "array([[ True,  True,  True, ...,  True,  True,  True]], dtype=bool)"
      ]
     },
     "execution_count": 18,
     "metadata": {},
     "output_type": "execute_result"
    }
   ],
   "source": [
    "z == x[0,:]"
   ]
  },
  {
   "cell_type": "code",
   "execution_count": 19,
   "metadata": {
    "collapsed": false
   },
   "outputs": [
    {
     "data": {
      "text/plain": [
       "<matplotlib.legend.Legend at 0x7f390c3c2b38>"
      ]
     },
     "execution_count": 19,
     "metadata": {},
     "output_type": "execute_result"
    }
   ],
   "source": [
    "#fig1, (ax1, ax2) = plt.subplots(nrows=2, ncols=1)\n",
    "fig1 = plt.figure(figsize=(7, 10))\n",
    "ax1 = plt.subplot(211)\n",
    "ax2 = plt.subplot(212)\n",
    "fig1.text(0.43, 0.01, 'time (s)', ha='center', va='center')\n",
    "#fig1.text(0.0, 0.55, 'Magnitude', ha='center', va='center', rotation='vertical')\n",
    "ax1.set_title('Example 2: state and estimate dynamics')\n",
    "ax2.set_title('error convergence')\n",
    "\n",
    "\n",
    "line1, = ax1.plot(t[:], z[0, :], 'b-', linewidth=1.5, label='$x_1(t)$')\n",
    "line2, = ax1.plot(t[:], zhat[0, :], 'r--', linewidth=1.5, label='$\\hat{z}(t)$')\n",
    "line1.set_antialiased(True)\n",
    "line2.set_antialiased(True)\n",
    "#ax1.set_ylim(0, 1.5)\n",
    "\n",
    "ax1.legend(handles=[line1, line2], loc='upper right')\n",
    "\n",
    "errline, = ax2.plot(t[0:], e[0, 0:],'g-', linewidth=1.5, label='$e(t)$')\n",
    "errline.set_antialiased(True)\n",
    "plt.ylim(0, 1.0)\n",
    "ax2.legend(handles=[errline], loc='upper right')\n"
   ]
  },
  {
   "cell_type": "code",
   "execution_count": 20,
   "metadata": {
    "collapsed": false
   },
   "outputs": [],
   "source": [
    "plt.tight_layout(pad=0.4, w_pad=0.4, h_pad=1.5)"
   ]
  },
  {
   "cell_type": "code",
   "execution_count": 21,
   "metadata": {
    "collapsed": false
   },
   "outputs": [],
   "source": [
    "plt.savefig('puilfo_internally_positive_system.eps', figsize=(7, 10), dpi=600, bbox_inches='tight')"
   ]
  },
  {
   "cell_type": "code",
   "execution_count": 22,
   "metadata": {
    "collapsed": false,
    "scrolled": false
   },
   "outputs": [
    {
     "data": {
      "image/png": "[encoded data removed]",
      "text/plain": [
       "<matplotlib.figure.Figure at 0x7f390c4f09b0>"
      ]
     },
     "metadata": {},
     "output_type": "display_data"
    }
   ],
   "source": [
    "plt.show()"
   ]
  },
  {
   "cell_type": "code",
   "execution_count": 23,
   "metadata": {
    "collapsed": false
   },
   "outputs": [
    {
     "data": {
      "text/plain": [
       "[<matplotlib.lines.Line2D at 0x7f390c21b278>]"
      ]
     },
     "execution_count": 23,
     "metadata": {},
     "output_type": "execute_result"
    }
   ],
   "source": [
    "plt.plot(t, e[0,:])"
   ]
  },
  {
   "cell_type": "code",
   "execution_count": 24,
   "metadata": {
    "collapsed": false
   },
   "outputs": [
    {
     "data": {
      "image/png": "[encoded data removed]",
      "text/plain": [
       "<matplotlib.figure.Figure at 0x7f390c22b160>"
      ]
     },
     "metadata": {},
     "output_type": "display_data"
    }
   ],
   "source": [
    "plt.show()"
   ]
  },
  {
   "cell_type": "code",
   "execution_count": 25,
   "metadata": {
    "collapsed": false
   },
   "outputs": [
    {
     "name": "stdout",
     "output_type": "stream",
     "text": [
      "(1, 20000)\n",
      "(1, 20000)\n"
     ]
    }
   ],
   "source": [
    "e = abs(zhat - z)\n",
    "print(zhat.shape)\n",
    "print(e.shape)"
   ]
  },
  {
   "cell_type": "code",
   "execution_count": 26,
   "metadata": {
    "collapsed": false,
    "scrolled": true
   },
   "outputs": [
    {
     "name": "stdout",
     "output_type": "stream",
     "text": [
      "[[  1.00000000e+00   1.00000000e+00   1.00000000e+00 ...,   6.44207001e-04\n",
      "    6.51955605e-04   6.59823418e-04]]\n"
     ]
    }
   ],
   "source": [
    "print(e)"
   ]
  },
  {
   "cell_type": "code",
   "execution_count": 27,
   "metadata": {
    "collapsed": false
   },
   "outputs": [
    {
     "data": {
      "text/plain": [
       "628843779.13768399"
      ]
     },
     "execution_count": 27,
     "metadata": {},
     "output_type": "execute_result"
    }
   ],
   "source": [
    "zhat[0, -1]"
   ]
  }
 ],
 "metadata": {
  "kernelspec": {
   "display_name": "Python 3",
   "language": "python",
   "name": "python3"
  },
  "language_info": {
   "codemirror_mode": {
    "name": "ipython",
    "version": 3
   },
   "file_extension": ".py",
   "mimetype": "text/x-python",
   "name": "python",
   "nbconvert_exporter": "python",
   "pygments_lexer": "ipython3",
   "version": "3.4.2"
  }
 },
 "nbformat": 4,
 "nbformat_minor": 1
}
